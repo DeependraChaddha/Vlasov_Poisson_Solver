{
  "nbformat": 4,
  "nbformat_minor": 0,
  "metadata": {
    "colab": {
      "provenance": [],
      "authorship_tag": "ABX9TyN3f701pEOq+iceePNDOu+V",
      "include_colab_link": true
    },
    "kernelspec": {
      "name": "python3",
      "display_name": "Python 3"
    },
    "language_info": {
      "name": "python"
    }
  },
  "cells": [
    {
      "cell_type": "markdown",
      "metadata": {
        "id": "view-in-github",
        "colab_type": "text"
      },
      "source": [
        "<a href=\"https://colab.research.google.com/github/DeependraChaddha/Vlasov_Poisson_Solver/blob/main/vlasov_poisson_system_solver.ipynb\" target=\"_parent\"><img src=\"https://colab.research.google.com/assets/colab-badge.svg\" alt=\"Open In Colab\"/></a>"
      ]
    },
    {
      "cell_type": "markdown",
      "source": [
        "#Script for Vlasov Poisson System Solver"
      ],
      "metadata": {
        "id": "YjWXXMEhh6wO"
      }
    },
    {
      "cell_type": "code",
      "execution_count": null,
      "metadata": {
        "id": "JlS9x6Q9hC8Q"
      },
      "outputs": [],
      "source": [
        "%%writefile vlasov_poisson_solver.py\n",
        "import os\n",
        "import torch\n",
        "import torch.nn as nn\n",
        "import torch.optim\n",
        "import matplotlib.pyplot as plt\n",
        "from matplotlib.animation import FuncAnimation\n",
        "from typing import Callable\n",
        "import tqdm\n",
        "import pickle\n",
        "\n",
        "class VlasovPoissonSolver:\n",
        "    def __init__(self, nx: int, nv: int, nt: int, x_range: tuple, v_range: tuple, t_range: tuple, device: str):\n",
        "        self.nx = nx\n",
        "        self.nv = nv\n",
        "        self.nt = nt\n",
        "        self.x_range = x_range\n",
        "        self.v_range = v_range\n",
        "        self.t_range = t_range\n",
        "        self.device = device if torch.cuda.is_available() else 'cpu'\n",
        "        self.model_checkpoint_path = None\n",
        "        print(\"Instance of Class VlasovPoissonSolver created.\")\n",
        "\n",
        "    def make_grid(self):\n",
        "        \"\"\"Creates a mesh grid for x, v, and t and enables gradient computation.\"\"\"\n",
        "        x = torch.linspace(self.x_range[0], self.x_range[1], self.nx).reshape(-1, 1)\n",
        "        v = torch.linspace(self.v_range[0], self.v_range[1], self.nv).reshape(-1, 1)\n",
        "        t = torch.linspace(self.t_range[0], self.t_range[1], self.nt).reshape(-1, 1)\n",
        "        X, V, T = torch.meshgrid(x.squeeze(), v.squeeze(), t.squeeze(), indexing='ij')\n",
        "        X, V, T = X.requires_grad_(True), V.requires_grad_(True), T.requires_grad_(True)\n",
        "        self.X, self.V, self.T = X.to(self.device), V.to(self.device), T.to(self.device)\n",
        "        return self.X, self.V, self.T\n",
        "\n",
        "    def save_checkpoint(self, model, optimizer, loss, model_name, hyperparameters):\n",
        "        \"\"\"Saves the model state, optimizer state, loss, and hyperparameters to a checkpoint file.\"\"\"\n",
        "        self.checkpoint_dir = f\"checkpoint_{model_name}_nx{self.nx}_nv{self.nv}_nt{self.nt}_epochs{hyperparameters['epochs']}\"\n",
        "        os.makedirs(self.checkpoint_dir, exist_ok=True)\n",
        "        checkpoint_path = os.path.join(self.checkpoint_dir, \"model_checkpoint.pkl\")\n",
        "        checkpoint = {\n",
        "            \"model_state_dict\": model.state_dict(),\n",
        "            \"optimizer_state_dict\": optimizer.state_dict(),\n",
        "            \"loss\": loss,\n",
        "            \"hyperparameters\": hyperparameters\n",
        "        }\n",
        "        torch.save(checkpoint, checkpoint_path)\n",
        "        self.model_checkpoint_path = checkpoint_path\n",
        "\n",
        "    def train_step(self, model, X, V, T, loss_fn, optimizer, scheduler=None):\n",
        "        \"\"\"Performs a single training step including forward pass, loss computation, and optimization update.\"\"\"\n",
        "        prediction = model(X, V, T, self.nx, self.nv)\n",
        "        loss = loss_fn(model=model, x=X, v=V, t=T, nx=self.nx, nv=self.nv)\n",
        "        optimizer.zero_grad()\n",
        "        loss.backward()\n",
        "        optimizer.step()\n",
        "        if scheduler:\n",
        "            scheduler.step(loss.item()) if isinstance(scheduler, torch.optim.lr_scheduler.ReduceLROnPlateau) else scheduler.step()\n",
        "        return X, V, T, prediction, loss.item(), model.state_dict()\n",
        "\n",
        "    def train(self, model, loss_fn, optimizer, epochs, model_name, get_loss_curve=False, scheduler=None):\n",
        "        \"\"\"Trains the neural network model over multiple epochs and saves the best model based on loss.\"\"\"\n",
        "        try:\n",
        "            X, V, T = self.X, self.V, self.T\n",
        "            model = model.to(self.device)\n",
        "            best_loss = float('inf')\n",
        "            loss_values = []\n",
        "            for epoch in tqdm.tqdm(range(epochs)):\n",
        "                X, V, T, Z, loss, model_params = self.train_step(model, X, V, T, loss_fn, optimizer, scheduler)\n",
        "                loss_values.append(loss)\n",
        "                if loss < best_loss:\n",
        "                    best_loss = loss\n",
        "                    self.save_checkpoint(model, optimizer, loss, model_name, {\"epochs\": epochs})\n",
        "            print(f\"Best Loss Achieved: {best_loss}\")\n",
        "            if get_loss_curve:\n",
        "                plt.figure(figsize=(8, 5))\n",
        "                plt.plot(range(1, epochs + 1), loss_values, marker='o', linestyle='-', color='r', label=\"Loss\")\n",
        "                plt.xlabel(\"Epoch\")\n",
        "                plt.ylabel(\"Loss\")\n",
        "                plt.title(\"Loss Curve Over Epochs\")\n",
        "                plt.legend()\n",
        "                plt.grid()\n",
        "                loss_curve_path = os.path.join(self.checkpoint_dir, \"loss_curve.png\")\n",
        "                plt.savefig(loss_curve_path)\n",
        "                print(f\"Loss curve saved at {loss_curve_path}\")\n",
        "                plt.show()\n",
        "            return self.model_checkpoint_path\n",
        "        except AttributeError:\n",
        "            print(\"Make grid first, Call make_grid method\")\n",
        "\n",
        "    def animate_final_prediction(self, model_class, model_checkpoint_path=None):\n",
        "        \"\"\"Creates an animation to visualize the final predicted distribution over time.\n",
        "        If the train function was called before calling this function, it takes the trained\n",
        "        model as default, otherwise, the path of the parameters of the model to be animated\n",
        "        needs to be input as a string. \"\"\"\n",
        "        try:\n",
        "            if model_checkpoint_path is None:\n",
        "                if self.model_checkpoint_path is None:\n",
        "                    raise AttributeError(\"Model checkpoint not found. Please train the model first by calling the train function or provide model path.\")\n",
        "                model_checkpoint_path = self.model_checkpoint_path\n",
        "\n",
        "            checkpoint = torch.load(model_checkpoint_path, map_location=self.device)\n",
        "            model = model_class().to(self.device)\n",
        "            model.load_state_dict(checkpoint[\"model_state_dict\"])\n",
        "            model.eval()\n",
        "\n",
        "            fig, ax = plt.subplots(figsize=(8, 6))\n",
        "\n",
        "            def update(frame):\n",
        "                ax.clear()\n",
        "                with torch.no_grad():\n",
        "                    Z = model(self.X, self.V, self.T[:, :, frame], self.nx, self.nv)\n",
        "                c = ax.pcolormesh(self.X.detach().cpu().numpy(), self.V.detach().cpu().numpy(), Z.detach().cpu().numpy(), cmap=\"viridis\")\n",
        "                fig.colorbar(c, ax=ax)\n",
        "                ax.set_xlabel(\"X-axis\")\n",
        "                ax.set_ylabel(\"V-axis\")\n",
        "                ax.set_title(f\"Predicted Distribution at Time {frame}\")\n",
        "\n",
        "            ani = FuncAnimation(fig, update, frames=self.nt, repeat=False)\n",
        "            plt.show()\n",
        "        except AttributeError as e:\n",
        "            print(e)\n"
      ]
    },
    {
      "cell_type": "markdown",
      "source": [
        "#Using above script"
      ],
      "metadata": {
        "id": "HVS3hdeIiEJo"
      }
    },
    {
      "cell_type": "code",
      "source": [],
      "metadata": {
        "id": "PAbHn1LHiIQE"
      },
      "execution_count": null,
      "outputs": []
    }
  ]
}